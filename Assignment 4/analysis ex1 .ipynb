{
 "cells": [
  {
   "cell_type": "code",
   "execution_count": 2,
   "metadata": {},
   "outputs": [
    {
     "ename": "ValueError",
     "evalue": "non-broadcastable output operand with shape (2,) doesn't match the broadcast shape (2,2)",
     "output_type": "error",
     "traceback": [
      "\u001b[0;31m---------------------------------------------------------------------------\u001b[0m",
      "\u001b[0;31mValueError\u001b[0m                                Traceback (most recent call last)",
      "Cell \u001b[0;32mIn[2], line 44\u001b[0m\n\u001b[1;32m     42\u001b[0m \u001b[38;5;66;03m# Initialize and run\u001b[39;00m\n\u001b[1;32m     43\u001b[0m scene \u001b[38;5;241m=\u001b[39m Scene()\n\u001b[0;32m---> 44\u001b[0m output \u001b[38;5;241m=\u001b[39m \u001b[43mscene\u001b[49m\u001b[38;5;241;43m.\u001b[39;49m\u001b[43mrun\u001b[49m\u001b[43m(\u001b[49m\u001b[43m)\u001b[49m\n\u001b[1;32m     45\u001b[0m \u001b[38;5;28mprint\u001b[39m(\u001b[38;5;124m'\u001b[39m\u001b[38;5;130;01m\\n\u001b[39;00m\u001b[38;5;124m'\u001b[39m\u001b[38;5;241m.\u001b[39mjoin(\u001b[38;5;28mmap\u001b[39m(\u001b[38;5;28mstr\u001b[39m, output)))\n",
      "Cell \u001b[0;32mIn[2], line 39\u001b[0m, in \u001b[0;36mScene.run\u001b[0;34m(self)\u001b[0m\n\u001b[1;32m     37\u001b[0m \u001b[38;5;28;01mdef\u001b[39;00m \u001b[38;5;21mrun\u001b[39m(\u001b[38;5;28mself\u001b[39m):\n\u001b[1;32m     38\u001b[0m     \u001b[38;5;28;01mfor\u001b[39;00m p \u001b[38;5;129;01min\u001b[39;00m \u001b[38;5;28mself\u001b[39m\u001b[38;5;241m.\u001b[39mswarm:\n\u001b[0;32m---> 39\u001b[0m         \u001b[43mp\u001b[49m\u001b[38;5;241;43m.\u001b[39;49m\u001b[43mstep\u001b[49m\u001b[43m(\u001b[49m\u001b[38;5;28;43mself\u001b[39;49m\u001b[38;5;241;43m.\u001b[39;49m\u001b[43mswarm\u001b[49m\u001b[43m,\u001b[49m\u001b[43m \u001b[49m\u001b[38;5;28;43mself\u001b[39;49m\u001b[38;5;241;43m.\u001b[39;49m\u001b[43mw\u001b[49m\u001b[43m,\u001b[49m\u001b[43m \u001b[49m\u001b[38;5;28;43mself\u001b[39;49m\u001b[38;5;241;43m.\u001b[39;49m\u001b[43mh\u001b[49m\u001b[43m)\u001b[49m\n\u001b[1;32m     40\u001b[0m     \u001b[38;5;28;01mreturn\u001b[39;00m [(p\u001b[38;5;241m.\u001b[39mpos[\u001b[38;5;241m0\u001b[39m], p\u001b[38;5;241m.\u001b[39mpos[\u001b[38;5;241m1\u001b[39m]) \u001b[38;5;28;01mfor\u001b[39;00m p \u001b[38;5;129;01min\u001b[39;00m \u001b[38;5;28mself\u001b[39m\u001b[38;5;241m.\u001b[39mswarm]\n",
      "Cell \u001b[0;32mIn[2], line 28\u001b[0m, in \u001b[0;36mParticle.step\u001b[0;34m(self, swarm, w, h)\u001b[0m\n\u001b[1;32m     26\u001b[0m avg_d \u001b[38;5;241m*\u001b[39m\u001b[38;5;241m=\u001b[39m \u001b[38;5;241m20\u001b[39m\n\u001b[1;32m     27\u001b[0m \u001b[38;5;28mself\u001b[39m\u001b[38;5;241m.\u001b[39mdir \u001b[38;5;241m+\u001b[39m\u001b[38;5;241m=\u001b[39m avg_d\n\u001b[0;32m---> 28\u001b[0m \u001b[38;5;28mself\u001b[39m\u001b[38;5;241m.\u001b[39mpos \u001b[38;5;241m+\u001b[39m\u001b[38;5;241m=\u001b[39m \u001b[38;5;28mself\u001b[39m\u001b[38;5;241m.\u001b[39mdir\n\u001b[1;32m     29\u001b[0m \u001b[38;5;28mself\u001b[39m\u001b[38;5;241m.\u001b[39mwrap(w, h)\n",
      "\u001b[0;31mValueError\u001b[0m: non-broadcastable output operand with shape (2,) doesn't match the broadcast shape (2,2)"
     ]
    }
   ],
   "source": [
    "import numpy as np\n",
    "import random\n",
    "\n",
    "class Particle:\n",
    "    def __init__(self, w, h):\n",
    "        self.pos = np.array([random.uniform(0, w), random.uniform(0, h)])\n",
    "        self.dir = np.random.rand(2) * 4  # Set magnitude to fixed speed\n",
    "\n",
    "    def wrap(self, w, h):\n",
    "        if self.pos[0] < 0: self.pos[0] += w\n",
    "        if self.pos[1] < 0: self.pos[1] += h\n",
    "        if self.pos[0] > w: self.pos[0] -= w\n",
    "        if self.pos[1] > h: self.pos[1] -= h\n",
    "\n",
    "    def step(self, swarm, w, h):\n",
    "        N = [p for p in swarm if np.linalg.norm(p.pos - self.pos) <= 100]\n",
    "        avg_sin = sum(np.sin(p.dir) for p in N) / len(N)\n",
    "        avg_cos = sum(np.cos(p.dir) for p in N) / len(N)\n",
    "        avg_p = sum(p.pos for p in N) / len(N)\n",
    "        avg_d = sum((self.pos - p.pos) / np.linalg.norm(self.pos - p.pos)**2 for p in N if p != self)\n",
    "        avg_d = np.array(avg_d).mean(axis=0)  # Ensure avg_d is a 1D array\n",
    "        avg_angle = np.arctan2(avg_cos, avg_sin) + random.uniform(-0.25, 0.25)\n",
    "        self.dir = np.array([np.cos(avg_angle), np.sin(avg_angle)]) * 4\n",
    "        cohesion = (avg_p - self.pos) / 100\n",
    "        self.dir += cohesion\n",
    "        avg_d *= 20\n",
    "        self.dir += avg_d\n",
    "        self.pos += self.dir\n",
    "        self.wrap(w, h)\n",
    "\n",
    "class Scene:\n",
    "    def __init__(self, w=600, h=600, n_particles=200):\n",
    "        self.w = w\n",
    "        self.h = h\n",
    "        self.swarm = [Particle(w, h) for _ in range(n_particles)]\n",
    "\n",
    "    def run(self):\n",
    "        for p in self.swarm:\n",
    "            p.step(self.swarm, self.w, self.h)\n",
    "        return [(p.pos[0], p.pos[1]) for p in self.swarm]\n",
    "\n",
    "# Initialize and run\n",
    "scene = Scene()\n",
    "output = scene.run()\n",
    "print('\\n'.join(map(str, output)))\n"
   ]
  },
  {
   "cell_type": "code",
   "execution_count": null,
   "metadata": {},
   "outputs": [],
   "source": []
  }
 ],
 "metadata": {
  "kernelspec": {
   "display_name": "Python 3.8.3 ('base')",
   "language": "python",
   "name": "python3"
  },
  "language_info": {
   "codemirror_mode": {
    "name": "ipython",
    "version": 3
   },
   "file_extension": ".py",
   "mimetype": "text/x-python",
   "name": "python",
   "nbconvert_exporter": "python",
   "pygments_lexer": "ipython3",
   "version": "3.8.3"
  },
  "orig_nbformat": 4,
  "vscode": {
   "interpreter": {
    "hash": "d75cc7cbfa9ae50cbaa69331d8e370542d9164759623daca0f2a399f9e8aab6c"
   }
  }
 },
 "nbformat": 4,
 "nbformat_minor": 2
}
